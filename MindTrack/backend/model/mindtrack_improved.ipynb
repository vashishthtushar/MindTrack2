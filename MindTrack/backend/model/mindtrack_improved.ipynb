{
 "cells": [
  {
   "cell_type": "markdown",
   "metadata": {},
   "source": [
    "# MindTrack — Improved ML Notebook\n",
    "\n",
    "This notebook upgrades the ML pipeline with preprocessing pipelines, lag/rolling features, robust diagnostics, hyperparameter tuning, and saved pipeline for deployment. It assumes `dataset.csv` and `additional_dataset.csv` are present in `/mnt/data/`.\n"
   ]
  },
  {
   "cell_type": "code",
   "execution_count": 1,
   "metadata": {},
   "outputs": [
    {
     "name": "stdout",
     "output_type": "stream",
     "text": [
      "Notebook started at 2025-10-26T02:47:03.918813\n"
     ]
    }
   ],
   "source": [
    "\n",
    "# Imports and helper functions\n",
    "import os, sys, warnings, json\n",
    "import pandas as pd, numpy as np\n",
    "from datetime import datetime\n",
    "warnings.filterwarnings('ignore')\n",
    "print('Notebook started at', datetime.utcnow().isoformat())\n"
   ]
  },
  {
   "cell_type": "code",
   "execution_count": 3,
   "metadata": {},
   "outputs": [
    {
     "name": "stdout",
     "output_type": "stream",
     "text": [
      "../data\\dataset.csv exists? True\n",
      "../data\\additional_dataset.csv exists? True\n",
      "Loaded dataset.csv with 457 rows\n",
      "Loaded additional_dataset.csv with 1371 rows\n"
     ]
    }
   ],
   "source": [
    "\n",
    "# Load datasets (robust checks)\n",
    "base_path = '../data'\n",
    "dataset_path = os.path.join(base_path, 'dataset.csv')\n",
    "additional_path = os.path.join(base_path, 'additional_dataset.csv')\n",
    "\n",
    "for p in [dataset_path, additional_path]:\n",
    "    print(p, 'exists?' , os.path.exists(p))\n",
    "\n",
    "# Load main dataset\n",
    "if os.path.exists(dataset_path):\n",
    "    df = pd.read_csv(dataset_path)\n",
    "    print('Loaded dataset.csv with', len(df), 'rows')\n",
    "else:\n",
    "    raise FileNotFoundError(f\"dataset.csv not found at {dataset_path}\")\n",
    "\n",
    "# Load additional (habit entries) if present\n",
    "if os.path.exists(additional_path):\n",
    "    additional = pd.read_csv(additional_path)\n",
    "    print('Loaded additional_dataset.csv with', len(additional), 'rows')\n",
    "else:\n",
    "    print('additional_dataset.csv not found — some downstream cells will skip habit-based logic.')\n",
    "    additional = pd.DataFrame()\n"
   ]
  },
  {
   "cell_type": "code",
   "execution_count": 5,
   "metadata": {},
   "outputs": [
    {
     "name": "stdout",
     "output_type": "stream",
     "text": [
      "Derived features added. Sample:\n"
     ]
    },
    {
     "data": {
      "text/html": [
       "<div>\n",
       "<style scoped>\n",
       "    .dataframe tbody tr th:only-of-type {\n",
       "        vertical-align: middle;\n",
       "    }\n",
       "\n",
       "    .dataframe tbody tr th {\n",
       "        vertical-align: top;\n",
       "    }\n",
       "\n",
       "    .dataframe thead th {\n",
       "        text-align: right;\n",
       "    }\n",
       "</style>\n",
       "<table border=\"1\" class=\"dataframe\">\n",
       "  <thead>\n",
       "    <tr style=\"text-align: right;\">\n",
       "      <th></th>\n",
       "      <th>date</th>\n",
       "      <th>TotalSteps</th>\n",
       "      <th>total_active_minutes</th>\n",
       "      <th>avg_steps_7d</th>\n",
       "      <th>minutes_asleep</th>\n",
       "      <th>prev_day_sleep</th>\n",
       "    </tr>\n",
       "  </thead>\n",
       "  <tbody>\n",
       "    <tr>\n",
       "      <th>0</th>\n",
       "      <td>2016-03-25</td>\n",
       "      <td>11004</td>\n",
       "      <td>250</td>\n",
       "      <td>11004.000000</td>\n",
       "      <td>424.0</td>\n",
       "      <td>NaN</td>\n",
       "    </tr>\n",
       "    <tr>\n",
       "      <th>1</th>\n",
       "      <td>2016-03-26</td>\n",
       "      <td>17609</td>\n",
       "      <td>380</td>\n",
       "      <td>14306.500000</td>\n",
       "      <td>511.0</td>\n",
       "      <td>424.0</td>\n",
       "    </tr>\n",
       "    <tr>\n",
       "      <th>2</th>\n",
       "      <td>2016-03-27</td>\n",
       "      <td>12736</td>\n",
       "      <td>329</td>\n",
       "      <td>13783.000000</td>\n",
       "      <td>533.0</td>\n",
       "      <td>511.0</td>\n",
       "    </tr>\n",
       "    <tr>\n",
       "      <th>3</th>\n",
       "      <td>2016-03-28</td>\n",
       "      <td>13231</td>\n",
       "      <td>283</td>\n",
       "      <td>13645.000000</td>\n",
       "      <td>81.0</td>\n",
       "      <td>533.0</td>\n",
       "    </tr>\n",
       "    <tr>\n",
       "      <th>4</th>\n",
       "      <td>2016-03-29</td>\n",
       "      <td>12041</td>\n",
       "      <td>299</td>\n",
       "      <td>13324.200000</td>\n",
       "      <td>411.0</td>\n",
       "      <td>81.0</td>\n",
       "    </tr>\n",
       "    <tr>\n",
       "      <th>5</th>\n",
       "      <td>2016-03-30</td>\n",
       "      <td>10970</td>\n",
       "      <td>266</td>\n",
       "      <td>12931.833333</td>\n",
       "      <td>480.0</td>\n",
       "      <td>411.0</td>\n",
       "    </tr>\n",
       "    <tr>\n",
       "      <th>6</th>\n",
       "      <td>2016-03-31</td>\n",
       "      <td>12256</td>\n",
       "      <td>284</td>\n",
       "      <td>12835.285714</td>\n",
       "      <td>365.0</td>\n",
       "      <td>480.0</td>\n",
       "    </tr>\n",
       "    <tr>\n",
       "      <th>7</th>\n",
       "      <td>2016-04-01</td>\n",
       "      <td>12262</td>\n",
       "      <td>268</td>\n",
       "      <td>13015.000000</td>\n",
       "      <td>333.0</td>\n",
       "      <td>365.0</td>\n",
       "    </tr>\n",
       "  </tbody>\n",
       "</table>\n",
       "</div>"
      ],
      "text/plain": [
       "         date  TotalSteps  total_active_minutes  avg_steps_7d  minutes_asleep  \\\n",
       "0  2016-03-25       11004                   250  11004.000000           424.0   \n",
       "1  2016-03-26       17609                   380  14306.500000           511.0   \n",
       "2  2016-03-27       12736                   329  13783.000000           533.0   \n",
       "3  2016-03-28       13231                   283  13645.000000            81.0   \n",
       "4  2016-03-29       12041                   299  13324.200000           411.0   \n",
       "5  2016-03-30       10970                   266  12931.833333           480.0   \n",
       "6  2016-03-31       12256                   284  12835.285714           365.0   \n",
       "7  2016-04-01       12262                   268  13015.000000           333.0   \n",
       "\n",
       "   prev_day_sleep  \n",
       "0             NaN  \n",
       "1           424.0  \n",
       "2           511.0  \n",
       "3           533.0  \n",
       "4            81.0  \n",
       "5           411.0  \n",
       "6           480.0  \n",
       "7           365.0  "
      ]
     },
     "metadata": {},
     "output_type": "display_data"
    }
   ],
   "source": [
    "\n",
    "# Basic preprocessing & derived features\n",
    "# Parse date columns (ActivityDate or date)\n",
    "if 'ActivityDate' in df.columns:\n",
    "    df['ActivityDate_parsed'] = pd.to_datetime(df['ActivityDate'], errors='coerce')\n",
    "if 'date' in df.columns:\n",
    "    df['date_parsed'] = pd.to_datetime(df['date'], errors='coerce')\n",
    "\n",
    "if 'ActivityDate_parsed' in df.columns and df['ActivityDate_parsed'].notna().any():\n",
    "    df['date'] = pd.to_datetime(df['ActivityDate_parsed']).dt.date\n",
    "elif 'date_parsed' in df.columns:\n",
    "    df['date'] = pd.to_datetime(df['date_parsed']).dt.date\n",
    "else:\n",
    "    df['date'] = pd.NaT\n",
    "\n",
    "# Ensure numeric columns exist\n",
    "for c in ['TotalSteps','VeryActiveMinutes','FairlyActiveMinutes','LightlyActiveMinutes','SedentaryMinutes','Calories','minutes_asleep']:\n",
    "    if c not in df.columns:\n",
    "        df[c] = np.nan\n",
    "    df[c] = pd.to_numeric(df[c], errors='coerce')\n",
    "\n",
    "# Derived features\n",
    "df['total_active_minutes'] = df[['VeryActiveMinutes','FairlyActiveMinutes','LightlyActiveMinutes']].sum(axis=1)\n",
    "df['is_weekend'] = pd.to_datetime(df['date']).dt.weekday.isin([5,6]).astype(int)\n",
    "df['day_of_week'] = pd.to_datetime(df['date']).dt.day_name()\n",
    "df['steps_per_active_min'] = df['TotalSteps'] / df['total_active_minutes'].replace(0, np.nan)\n",
    "\n",
    "# Rolling features (per user if Id exists, else global)\n",
    "if 'Id' in df.columns:\n",
    "    df['Id'] = df['Id'].astype(str)\n",
    "    df = df.sort_values(['Id','date'])\n",
    "    df['avg_steps_7d'] = df.groupby('Id')['TotalSteps'].transform(lambda x: x.rolling(7, min_periods=1).mean())\n",
    "    df['prev_day_sleep'] = df.groupby('Id')['minutes_asleep'].shift(1)\n",
    "else:\n",
    "    df = df.sort_values('date')\n",
    "    df['avg_steps_7d'] = df['TotalSteps'].rolling(7, min_periods=1).mean()\n",
    "    df['prev_day_sleep'] = df['minutes_asleep'].shift(1)\n",
    "\n",
    "df['avg_sleep_7d'] = df['minutes_asleep'].rolling(7, min_periods=1).mean()\n",
    "\n",
    "print('Derived features added. Sample:')\n",
    "display(df[['date','TotalSteps','total_active_minutes','avg_steps_7d','minutes_asleep','prev_day_sleep']].head(8))\n"
   ]
  },
  {
   "cell_type": "code",
   "execution_count": 7,
   "metadata": {},
   "outputs": [
    {
     "name": "stdout",
     "output_type": "stream",
     "text": [
      "Total rows: 457\n",
      "Missing minutes_asleep: 0\n"
     ]
    },
    {
     "data": {
      "image/png": "[encoded data removed]",
      "text/plain": [
       "<Figure size 800x300 with 1 Axes>"
      ]
     },
     "metadata": {},
     "output_type": "display_data"
    },
    {
     "data": {
      "text/plain": [
       "count     457.000000\n",
       "mean      476.094092\n",
       "std       114.112008\n",
       "min        16.000000\n",
       "25%       480.000000\n",
       "50%       480.000000\n",
       "75%       480.000000\n",
       "max      1160.000000\n",
       "Name: minutes_asleep, dtype: float64"
      ]
     },
     "metadata": {},
     "output_type": "display_data"
    },
    {
     "name": "stdout",
     "output_type": "stream",
     "text": [
      "Outlier rows (sleep <60 or >1440): 5\n"
     ]
    },
    {
     "data": {
      "text/html": [
       "<div>\n",
       "<style scoped>\n",
       "    .dataframe tbody tr th:only-of-type {\n",
       "        vertical-align: middle;\n",
       "    }\n",
       "\n",
       "    .dataframe tbody tr th {\n",
       "        vertical-align: top;\n",
       "    }\n",
       "\n",
       "    .dataframe thead th {\n",
       "        text-align: right;\n",
       "    }\n",
       "</style>\n",
       "<table border=\"1\" class=\"dataframe\">\n",
       "  <thead>\n",
       "    <tr style=\"text-align: right;\">\n",
       "      <th></th>\n",
       "      <th>date</th>\n",
       "      <th>minutes_asleep</th>\n",
       "    </tr>\n",
       "  </thead>\n",
       "  <tbody>\n",
       "    <tr>\n",
       "      <th>68</th>\n",
       "      <td>2016-04-09</td>\n",
       "      <td>56.0</td>\n",
       "    </tr>\n",
       "    <tr>\n",
       "      <th>119</th>\n",
       "      <td>2016-04-09</td>\n",
       "      <td>25.0</td>\n",
       "    </tr>\n",
       "    <tr>\n",
       "      <th>231</th>\n",
       "      <td>2016-03-31</td>\n",
       "      <td>57.0</td>\n",
       "    </tr>\n",
       "    <tr>\n",
       "      <th>343</th>\n",
       "      <td>2016-04-01</td>\n",
       "      <td>16.0</td>\n",
       "    </tr>\n",
       "    <tr>\n",
       "      <th>387</th>\n",
       "      <td>2016-04-10</td>\n",
       "      <td>54.0</td>\n",
       "    </tr>\n",
       "  </tbody>\n",
       "</table>\n",
       "</div>"
      ],
      "text/plain": [
       "           date  minutes_asleep\n",
       "68   2016-04-09            56.0\n",
       "119  2016-04-09            25.0\n",
       "231  2016-03-31            57.0\n",
       "343  2016-04-01            16.0\n",
       "387  2016-04-10            54.0"
      ]
     },
     "metadata": {},
     "output_type": "display_data"
    }
   ],
   "source": [
    "\n",
    "# Target diagnostics for minutes_asleep\n",
    "print('Total rows:', len(df))\n",
    "print('Missing minutes_asleep:', df['minutes_asleep'].isna().sum())\n",
    "\n",
    "import matplotlib.pyplot as plt\n",
    "plt.figure(figsize=(8,3))\n",
    "plt.hist(df['minutes_asleep'].dropna(), bins=40)\n",
    "plt.title('Distribution of minutes_asleep')\n",
    "plt.xlabel('minutes_asleep')\n",
    "plt.show()\n",
    "\n",
    "display(df['minutes_asleep'].describe())\n",
    "\n",
    "# Identify outliers: very small or very large values\n",
    "outliers = df[(df['minutes_asleep'] < 60) | (df['minutes_asleep'] > 1440)]\n",
    "print('Outlier rows (sleep <60 or >1440):', len(outliers))\n",
    "if len(outliers)>0:\n",
    "    display(outliers[['date','minutes_asleep']].head(8))\n"
   ]
  },
  {
   "cell_type": "code",
   "execution_count": 11,
   "metadata": {},
   "outputs": [
    {
     "name": "stdout",
     "output_type": "stream",
     "text": [
      "Removed 14 extreme rows; remaining 443 rows for ML.\n"
     ]
    }
   ],
   "source": [
    "\n",
    "# Create ML dataset: drop rows without minutes_asleep and optionally trim extremes\n",
    "df_ml = df.dropna(subset=['minutes_asleep']).copy()\n",
    "# Optionally remove extreme outliers (sleep < 60 or > 12*60)\n",
    "initial_rows = len(df_ml)\n",
    "df_ml = df_ml[(df_ml['minutes_asleep'] >= 60) & (df_ml['minutes_asleep'] <= 12*60)]\n",
    "print(f'Removed {initial_rows - len(df_ml)} extreme rows; remaining {len(df_ml)} rows for ML.')\n"
   ]
  },
  {
   "cell_type": "code",
   "execution_count": 13,
   "metadata": {},
   "outputs": [
    {
     "name": "stdout",
     "output_type": "stream",
     "text": [
      "Temporal split at date 2016-04-06 ; train rows: 275 test rows: 168\n"
     ]
    }
   ],
   "source": [
    "\n",
    "# Features to use\n",
    "feature_cols = ['TotalSteps','VeryActiveMinutes','FairlyActiveMinutes','LightlyActiveMinutes','SedentaryMinutes','Calories','total_active_minutes','avg_steps_7d','prev_day_sleep','is_weekend']\n",
    "\n",
    "for c in feature_cols:\n",
    "    if c not in df_ml.columns:\n",
    "        df_ml[c] = 0\n",
    "\n",
    "# Ensure date is datetime\n",
    "df_ml['date'] = pd.to_datetime(df_ml['date'])\n",
    "\n",
    "# Temporal split by date: first 80% dates -> train, last 20% -> test\n",
    "unique_dates = sorted(df_ml['date'].dt.date.unique())\n",
    "if len(unique_dates) >= 5:\n",
    "    split_idx = int(len(unique_dates)*0.8)\n",
    "    split_date = unique_dates[split_idx]\n",
    "    train_df = df_ml[df_ml['date'].dt.date <= split_date].copy()\n",
    "    test_df = df_ml[df_ml['date'].dt.date > split_date].copy()\n",
    "    print('Temporal split at date', split_date, '; train rows:', len(train_df), 'test rows:', len(test_df))\n",
    "else:\n",
    "    from sklearn.model_selection import train_test_split\n",
    "    train_df, test_df = train_test_split(df_ml, test_size=0.2, random_state=42)\n",
    "    print('Random split used; train rows:', len(train_df), 'test rows:', len(test_df))\n",
    "\n",
    "X_train = train_df[feature_cols]\n",
    "y_train = train_df['minutes_asleep']\n",
    "X_test = test_df[feature_cols]\n",
    "y_test = test_df['minutes_asleep']\n"
   ]
  },
  {
   "cell_type": "code",
   "execution_count": 15,
   "metadata": {},
   "outputs": [
    {
     "name": "stdout",
     "output_type": "stream",
     "text": [
      "Baseline mean predictor MAE: 41.48 minutes\n"
     ]
    }
   ],
   "source": [
    "\n",
    "# Baseline: predict mean sleep\n",
    "import numpy as np\n",
    "mean_pred = np.mean(y_train)\n",
    "baseline_mae = np.mean(np.abs(y_test - mean_pred))\n",
    "print(f'Baseline mean predictor MAE: {baseline_mae:.2f} minutes')\n"
   ]
  },
  {
   "cell_type": "code",
   "execution_count": 17,
   "metadata": {},
   "outputs": [
    {
     "name": "stdout",
     "output_type": "stream",
     "text": [
      "Fitting 3 folds for each of 12 candidates, totalling 36 fits\n",
      "Best params: {'model__n_estimators': 200, 'model__min_samples_leaf': 4, 'model__max_depth': 10}\n"
     ]
    }
   ],
   "source": [
    "\n",
    "# Build preprocessing + model pipeline\n",
    "from sklearn.pipeline import Pipeline\n",
    "from sklearn.compose import ColumnTransformer\n",
    "from sklearn.impute import SimpleImputer\n",
    "from sklearn.preprocessing import StandardScaler, OneHotEncoder\n",
    "from sklearn.ensemble import RandomForestRegressor\n",
    "from sklearn.model_selection import RandomizedSearchCV\n",
    "\n",
    "numeric_feats = feature_cols  # all numeric here\n",
    "numeric_transformer = Pipeline(steps=[('imputer', SimpleImputer(strategy='median')), ('scaler', StandardScaler())])\n",
    "preprocessor = ColumnTransformer(transformers=[('num', numeric_transformer, numeric_feats)], remainder='drop')\n",
    "\n",
    "rf = RandomForestRegressor(random_state=42, n_jobs=-1)\n",
    "pipeline = Pipeline(steps=[('preprocessor', preprocessor), ('model', rf)])\n",
    "\n",
    "# Hyperparameter grid for randomized search\n",
    "param_dist = {\n",
    "    'model__n_estimators': [100,200,400],\n",
    "    'model__max_depth': [5,10,20,None],\n",
    "    'model__min_samples_leaf': [1,2,4,8]\n",
    "}\n",
    "\n",
    "rs = RandomizedSearchCV(pipeline, param_distributions=param_dist, n_iter=12, scoring='neg_mean_absolute_error', cv=3, random_state=42, n_jobs=-1, verbose=1)\n",
    "rs.fit(X_train, y_train)\n",
    "print('Best params:', rs.best_params_)\n",
    "best_pipeline = rs.best_estimator_\n"
   ]
  },
  {
   "cell_type": "code",
   "execution_count": 18,
   "metadata": {},
   "outputs": [
    {
     "name": "stdout",
     "output_type": "stream",
     "text": [
      "Test MAE: 64.05 minutes\n",
      "Test RMSE: 94.13 minutes\n",
      "Test R2: -0.350\n",
      "\n",
      "Compare to baseline:\n",
      "Baseline MAE: 41.48 minutes\n",
      "\n",
      "Top features:\n",
      "SedentaryMinutes 0.429\n",
      "avg_steps_7d 0.110\n",
      "total_active_minutes 0.087\n",
      "Calories 0.077\n",
      "prev_day_sleep 0.074\n",
      "TotalSteps 0.065\n",
      "LightlyActiveMinutes 0.065\n",
      "FairlyActiveMinutes 0.042\n",
      "VeryActiveMinutes 0.038\n",
      "is_weekend 0.013\n"
     ]
    }
   ],
   "source": [
    "\n",
    "# Evaluate on test\n",
    "from sklearn.metrics import mean_absolute_error, mean_squared_error, r2_score\n",
    "preds = best_pipeline.predict(X_test)\n",
    "mae = mean_absolute_error(y_test, preds)\n",
    "rmse = mean_squared_error(y_test, preds, squared=False)\n",
    "r2 = r2_score(y_test, preds)\n",
    "print(f'Test MAE: {mae:.2f} minutes')\n",
    "print(f'Test RMSE: {rmse:.2f} minutes')\n",
    "print(f'Test R2: {r2:.3f}')\n",
    "\n",
    "print('\\nCompare to baseline:')\n",
    "print(f'Baseline MAE: {baseline_mae:.2f} minutes')\n",
    "\n",
    "# Feature importances (if model exposes them)\n",
    "try:\n",
    "    model = best_pipeline.named_steps['model']\n",
    "    importances = model.feature_importances_\n",
    "    feat_imp = sorted(zip(feature_cols, importances), key=lambda x: x[1], reverse=True)\n",
    "    print('\\nTop features:')\n",
    "    for f,i in feat_imp[:10]:\n",
    "        print(f, f'{i:.3f}')\n",
    "except Exception as e:\n",
    "    print('Could not extract feature importances:', e)\n"
   ]
  },
  {
   "cell_type": "code",
   "execution_count": 21,
   "metadata": {},
   "outputs": [
    {
     "name": "stdout",
     "output_type": "stream",
     "text": [
      "Saved pipeline to ../data\\pipeline.pkl\n"
     ]
    }
   ],
   "source": [
    "\n",
    "# Save the trained pipeline for backend integration\n",
    "import joblib\n",
    "out_pipeline = os.path.join('../data','pipeline.pkl')\n",
    "joblib.dump(best_pipeline, out_pipeline)\n",
    "print('Saved pipeline to', out_pipeline)\n"
   ]
  },
  {
   "cell_type": "code",
   "execution_count": 23,
   "metadata": {},
   "outputs": [
    {
     "name": "stdout",
     "output_type": "stream",
     "text": [
      "Computed SHAP values. Displaying summary plot...\n"
     ]
    },
    {
     "data": {
      "image/png": "[encoded data removed]",
      "text/plain": [
       "<Figure size 800x550 with 2 Axes>"
      ]
     },
     "metadata": {},
     "output_type": "display_data"
    }
   ],
   "source": [
    "\n",
    "# Optional: SHAP explanation (will only run if shap is installed)\n",
    "try:\n",
    "    import shap\n",
    "    explainer = shap.TreeExplainer(best_pipeline.named_steps['model'])\n",
    "    # need to transform X_test through preprocessor to get numeric array\n",
    "    X_test_trans = best_pipeline.named_steps['preprocessor'].transform(X_test)\n",
    "    shap_values = explainer.shap_values(X_test_trans)\n",
    "    print('Computed SHAP values. Displaying summary plot...')\n",
    "    shap.summary_plot(shap_values, X_test_trans, feature_names=feature_cols)\n",
    "except Exception as e:\n",
    "    print('SHAP not available or failed:', e)\n"
   ]
  },
  {
   "cell_type": "code",
   "execution_count": 29,
   "metadata": {},
   "outputs": [
    {
     "name": "stdout",
     "output_type": "stream",
     "text": [
      "Sample raw input dict:\n",
      "{'TotalSteps': 10198, 'VeryActiveMinutes': 17, 'FairlyActiveMinutes': 20, 'LightlyActiveMinutes': 195, 'SedentaryMinutes': 1208, 'Calories': 1755, 'total_active_minutes': 232, 'avg_steps_7d': 12157.0, 'prev_day_sleep': 480.0, 'is_weekend': 0}\n",
      "Predicted minutes_asleep for sample: 453.39918952922073\n",
      "Actual: 480.0\n"
     ]
    }
   ],
   "source": [
    "\n",
    "# Demo: how to call pipeline on raw input dict (example)\n",
    "sample = X_test.iloc[0:1].to_dict(orient='records')[0]\n",
    "print('Sample raw input dict:')\n",
    "print(sample)\n",
    "# Convert to DataFrame and predict\n",
    "sample_df = pd.DataFrame([sample])\n",
    "loaded = joblib.load('../data/pipeline.pkl')\n",
    "pred = loaded.predict(sample_df)\n",
    "print('Predicted minutes_asleep for sample:', pred[0])\n",
    "print('Actual:', y_test.iloc[0])\n"
   ]
  },
  {
   "cell_type": "markdown",
   "metadata": {},
   "source": [
    "## Notes\n",
    "- This notebook trims extreme sleep values and uses temporal splitting.\n",
    "- The pipeline (pipeline.pkl) contains preprocessing and model and is ready for backend use.\n",
    "- If you need SHAP visual PNG saved instead of inline, I can add that.\n"
   ]
  },
  {
   "cell_type": "code",
   "execution_count": null,
   "metadata": {},
   "outputs": [],
   "source": []
  }
 ],
 "metadata": {
  "kernelspec": {
   "display_name": "Python [conda env:base] *",
   "language": "python",
   "name": "conda-base-py"
  },
  "language_info": {
   "codemirror_mode": {
    "name": "ipython",
    "version": 3
   },
   "file_extension": ".py",
   "mimetype": "text/x-python",
   "name": "python",
   "nbconvert_exporter": "python",
   "pygments_lexer": "ipython3",
   "version": "3.12.7"
  }
 },
 "nbformat": 4,
 "nbformat_minor": 4
}
